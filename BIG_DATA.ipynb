{
  "nbformat": 4,
  "nbformat_minor": 0,
  "metadata": {
    "colab": {
      "provenance": []
    },
    "kernelspec": {
      "name": "python3",
      "display_name": "Python 3"
    },
    "language_info": {
      "name": "python"
    }
  },
  "cells": [
    {
      "cell_type": "code",
      "execution_count": 1,
      "metadata": {
        "colab": {
          "base_uri": "https://localhost:8080/"
        },
        "id": "qRBZd7Q8LyDo",
        "outputId": "7be2a20c-71bf-4d5a-d740-f61821ed430f"
      },
      "outputs": [
        {
          "output_type": "stream",
          "name": "stdout",
          "text": [
            "Volume of data: 1000000\n"
          ]
        }
      ],
      "source": [
        "import numpy as np\n",
        "volume_data=np.random.rand(1000000)\n",
        "print(\"Volume of data:\",len(volume_data))"
      ]
    },
    {
      "cell_type": "code",
      "source": [
        "import time\n",
        "for i in range(10):\n",
        "  velocity_data=np.random.rand()\n",
        "  print(\"Velocity data point:\",velocity_data)\n",
        "  time.sleep(2)"
      ],
      "metadata": {
        "colab": {
          "base_uri": "https://localhost:8080/"
        },
        "id": "dkVnV7stMKHP",
        "outputId": "d83f2fc6-1c26-4462-abf1-acd9d5e5bb84"
      },
      "execution_count": 5,
      "outputs": [
        {
          "output_type": "stream",
          "name": "stdout",
          "text": [
            "Velocity data point: 0.4606917982100669\n",
            "Velocity data point: 0.2251482187822249\n",
            "Velocity data point: 0.11361443953215267\n",
            "Velocity data point: 0.5056515324996108\n",
            "Velocity data point: 0.8169818124518518\n",
            "Velocity data point: 0.431117024851008\n",
            "Velocity data point: 0.02630127723061848\n",
            "Velocity data point: 0.2340649887059506\n",
            "Velocity data point: 0.2410624405544025\n",
            "Velocity data point: 0.8738195296322582\n"
          ]
        }
      ]
    },
    {
      "cell_type": "code",
      "source": [
        "structured_data={'id':1,'name':'John','age':30}\n",
        "print(structured_data)\n",
        "semi_strucutured_data={'person':{'name':'Alice','age':25,'city':'N'}}\n",
        "unstructured_data=\"This is a samplr text document,It can contain any in\""
      ],
      "metadata": {
        "colab": {
          "base_uri": "https://localhost:8080/"
        },
        "id": "tsMeXM13NNVm",
        "outputId": "1c9a5e8f-b3f6-468d-87f7-e768e7c862a3"
      },
      "execution_count": 7,
      "outputs": [
        {
          "output_type": "stream",
          "name": "stdout",
          "text": [
            "{'id': 1, 'name': 'John', 'age': 30}\n"
          ]
        }
      ]
    },
    {
      "cell_type": "code",
      "source": [
        "import random\n",
        "veracity_data=[random.choice([1,2,3,None])for _ in range(20)]\n",
        "print(\"veracity_data\",veracity_data)"
      ],
      "metadata": {
        "colab": {
          "base_uri": "https://localhost:8080/"
        },
        "id": "IQVpEUjWObTs",
        "outputId": "2ee0ab0b-ab28-4d46-acc2-42d49d4ec9e5"
      },
      "execution_count": 12,
      "outputs": [
        {
          "output_type": "stream",
          "name": "stdout",
          "text": [
            "veracity_data [1, 3, 3, None, 2, None, None, None, 2, 1, 3, 3, 3, None, 2, 1, None, 1, 1, 2]\n"
          ]
        }
      ]
    },
    {
      "cell_type": "code",
      "source": [],
      "metadata": {
        "id": "YQRPUxdNP1-l"
      },
      "execution_count": null,
      "outputs": []
    }
  ]
}